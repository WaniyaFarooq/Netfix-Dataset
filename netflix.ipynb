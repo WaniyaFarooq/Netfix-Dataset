{
 "cells": [
  {
   "cell_type": "code",
   "execution_count": null,
   "id": "308fbd7e",
   "metadata": {},
   "outputs": [],
   "source": [
    "import pandas as pd\n",
    "import matplotlib.pyplot as plt\n",
    "\n",
    "#load data\n",
    "df = pd.read_csv('netflix.csv')"
   ]
  },
  {
   "cell_type": "code",
   "execution_count": null,
   "id": "6dba6cc9",
   "metadata": {},
   "outputs": [],
   "source": [
    "df.head(10)"
   ]
  },
  {
   "cell_type": "code",
   "execution_count": null,
   "id": "062783e9",
   "metadata": {},
   "outputs": [],
   "source": [
    "df.info()"
   ]
  },
  {
   "cell_type": "code",
   "execution_count": null,
   "id": "e6815c0a",
   "metadata": {},
   "outputs": [],
   "source": [
    "df.describe()"
   ]
  },
  {
   "cell_type": "markdown",
   "id": "c846316e",
   "metadata": {},
   "source": [
    "clean data"
   ]
  },
  {
   "cell_type": "code",
   "execution_count": null,
   "id": "6df7b4c0",
   "metadata": {},
   "outputs": [],
   "source": [
    "\n",
    "df = df.dropna(subset=['type','release_year','rating','country','duration'])\n",
    "type_counts = df['type'].value_counts()"
   ]
  },
  {
   "cell_type": "code",
   "execution_count": null,
   "id": "6802b380",
   "metadata": {},
   "outputs": [],
   "source": [
    "\n",
    "print(df.groupby(['release_year','type']).size().unstack())"
   ]
  },
  {
   "cell_type": "markdown",
   "id": "5eedb7f3",
   "metadata": {},
   "source": [
    "Number of Movies vs tv shows"
   ]
  },
  {
   "cell_type": "code",
   "execution_count": null,
   "id": "9cae972f",
   "metadata": {},
   "outputs": [],
   "source": [
    "\n",
    "plt.figure(figsize=(6,4))\n",
    "plt.bar(type_counts.index,type_counts.values,color = ['pink','grey'])\n",
    "plt.title('Number of Movies vs tv shows')\n",
    "plt.xlabel('Type')\n",
    "plt.ylabel('count')\n",
    "plt.tight_layout()\n",
    "\n",
    "plt.show()"
   ]
  },
  {
   "cell_type": "markdown",
   "id": "e485f490",
   "metadata": {},
   "source": [
    "Precentage of content rating"
   ]
  },
  {
   "cell_type": "code",
   "execution_count": null,
   "id": "5bbe6649",
   "metadata": {},
   "outputs": [],
   "source": [
    "\n",
    "rating_counts = df[\"rating\"].value_counts()\n",
    "plt.figure(figsize=(6,4))\n",
    "plt.pie(rating_counts,labels=rating_counts.index,colors = ['pink','blue','coral','maroon','skyblue','green','teal','red','grey','black','silver','orange','purple','brown'],autopct='%1.1f%%',startangle=97)\n",
    "plt.title('Precentage of content rating')\n",
    "plt.tight_layout()\n",
    "\n",
    "plt.show()"
   ]
  },
  {
   "cell_type": "markdown",
   "id": "11ac861d",
   "metadata": {},
   "source": [
    "Distribution of movie duration"
   ]
  },
  {
   "cell_type": "code",
   "execution_count": null,
   "id": "0dba1576",
   "metadata": {},
   "outputs": [],
   "source": [
    "\n",
    "movie_df = df[df['type']=='Movie'].copy()\n",
    "movie_df['duration_int'] = movie_df['duration'].str.replace('min','').astype(int)\n",
    "plt.figure(figsize=(8,8))\n",
    "bins = [80, 100,120,140,160,180]\n",
    "plt.hist(movie_df['duration_int'],bins=bins,color='purple',edgecolor='white')\n",
    "plt.xticks(bins)\n",
    "plt.yticks([0,2,4,6,8,10,12,14,16,18,20])\n",
    "plt.title('Distribution of movie duration')\n",
    "plt.xlabel('duration')\n",
    "plt.ylabel('number of movie')\n",
    "plt.tight_layout()\n",
    "\n",
    "plt.show()"
   ]
  },
  {
   "cell_type": "markdown",
   "id": "e75fca47",
   "metadata": {},
   "source": [
    "Relese_year vs number of shows"
   ]
  },
  {
   "cell_type": "code",
   "execution_count": null,
   "id": "31d8ebe0",
   "metadata": {},
   "outputs": [],
   "source": [
    "\n",
    "release_counts = df[\"release_year\"].value_counts().sort_index()\n",
    "plt.figure(figsize=(10,6))\n",
    "plt.scatter(release_counts.index,release_counts.values,color = 'red')\n",
    "plt.title('relese_year vs number of shows')\n",
    "plt.xlabel('release_year')\n",
    "plt.ylabel('number of shows')\n",
    "plt.tight_layout()\n",
    "\n",
    "plt.show()"
   ]
  },
  {
   "cell_type": "markdown",
   "id": "13c82f80",
   "metadata": {},
   "source": [
    "Ten countries by number of shows"
   ]
  },
  {
   "cell_type": "code",
   "execution_count": null,
   "id": "4e19a292",
   "metadata": {},
   "outputs": [],
   "source": [
    "\n",
    "country_counts = df[\"country\"].value_counts().head(10)\n",
    "plt.figure(figsize=(8,6))\n",
    "plt.barh(country_counts.index,country_counts.values,color = \"teal\")\n",
    "plt.title('Ten countries by number of shows')\n",
    "plt.xlabel('rnumber of show')\n",
    "plt.ylabel('contries')\n",
    "plt.tight_layout()\n",
    "\n",
    "plt.show()"
   ]
  },
  {
   "cell_type": "markdown",
   "id": "9255e521",
   "metadata": {},
   "source": [
    "Comparision of TV show and movies released over Years"
   ]
  },
  {
   "cell_type": "code",
   "execution_count": null,
   "id": "ecab44d9",
   "metadata": {},
   "outputs": [],
   "source": [
    "content_by_year = df.groupby(['release_year','type']).size().unstack().fillna(0)\n",
    "fig ,ax = plt.subplots(1,2,figsize=(12,5))\n",
    "\n",
    "ax[0].plot(content_by_year.index,content_by_year[\"Movie\"],color = \"grey\")\n",
    "ax[0].set_title(\"Movies released per year\")\n",
    "ax[0].set_xlabel('Year')\n",
    "ax[0].set_ylabel('Number of movies')\n",
    "\n",
    "ax[1].plot(content_by_year.index,content_by_year[\"TV Show\"],color = \"orange\")\n",
    "ax[1].set_title(\"TV show released per year\")\n",
    "ax[1].set_xlabel('Year')\n",
    "ax[1].set_ylabel('Number of TV show')\n",
    "fig.suptitle(\"Comparision of TV show and movies released over Years\")\n",
    "plt.tight_layout()\n",
    "\n",
    "plt.show()"
   ]
  },
  {
   "cell_type": "markdown",
   "id": "763b2a9a",
   "metadata": {},
   "source": [
    "# **Insights from Netflix Data Analysis**\n",
    "\n",
    "## **Key Findings from the Netflix Dataset Analysis**\n",
    "\n",
    "### **Data Overview**\n",
    "The dataset contains information about Netflix shows and movies, including details like title, type (movie/TV show), director, cast, country, release year, rating, duration, genre, and description.\n",
    "\n",
    "Initial data exploration shows **100 entries** with some missing values in columns like director, cast, and country.\n",
    "\n",
    "### **Content Distribution**\n",
    "The dataset shows a mix of movies and TV shows available on Netflix.\n",
    "\n",
    "The bar plot visualization reveals the comparative count between movies and TV shows in the sample data.\n",
    "\n",
    "### **Content Ratings**\n",
    "The pie chart displays the percentage distribution of different content ratings (like TV-MA, PG-13, PG, etc.) in the dataset.\n",
    "\n",
    "**TV-MA (Mature Audience)** content appears to be the most common rating in this sample.\n",
    "\n",
    "### **Release Trends**\n",
    "The histogram of release years shows how Netflix's content library is distributed across different years.\n",
    "\n",
    "More recent years (like 2021) have a higher concentration of content, reflecting Netflix's growing library.\n",
    "\n",
    "### **Data Cleaning**\n",
    "The analysis includes steps to clean the data by handling missing values in key columns like type, release year, rating, country, and duration.\n",
    "\n",
    "### **Recommendations for Further Analysis**\n",
    "- **Content Origin Analysis:** Explore which countries produce the most Netflix content.\n",
    "- **Genre Popularity:** Analyze which genres are most common and how they trend over time.\n",
    "- **Director/Cast Analysis:** Examine which directors and actors appear most frequently.\n",
    "- **Duration Patterns:** Investigate differences in movie lengths and TV show seasons.\n",
    "- **Temporal Trends:** More detailed analysis of how content production has changed year-over-year.\n",
    "\n",
    "### **Data Limitations**\n",
    "- The dataset is a sample (100 entries) and may not represent Netflix's complete library.\n",
    "- Missing values in some columns limit certain analyses.\n",
    "- The timeframe of the data isn't specified, which could affect trend analysis.\n",
    "\n",
    "This analysis provides a foundation for understanding Netflix's content strategy and could be expanded with more comprehensive data and additional visualization.\n"
   ]
  },
  {
   "cell_type": "markdown",
   "id": "a168f41d",
   "metadata": {},
   "source": []
  }
 ],
 "metadata": {
  "kernelspec": {
   "display_name": "pydata",
   "language": "python",
   "name": "pydata"
  },
  "language_info": {
   "codemirror_mode": {
    "name": "ipython",
    "version": 3
   },
   "file_extension": ".py",
   "mimetype": "text/x-python",
   "name": "python",
   "nbconvert_exporter": "python",
   "pygments_lexer": "ipython3",
   "version": "3.12.3"
  }
 },
 "nbformat": 4,
 "nbformat_minor": 5
}
